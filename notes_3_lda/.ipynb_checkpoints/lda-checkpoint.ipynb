{
 "metadata": {
  "name": "",
  "signature": "sha256:79cfbebb26b0d0e7c0860cafed4445dfe179d349a24875da1ed83fd72da7d1fd"
 },
 "nbformat": 3,
 "nbformat_minor": 0,
 "worksheets": [
  {
   "cells": [
    {
     "cell_type": "markdown",
     "metadata": {},
     "source": [
      "## The model\n",
      "\n",
      "We have the following variables:\n",
      "> $\\mathbf{w}_i$: i-th data point, $V$ dimensional, called a \"document\".\n",
      "\n",
      "> $M$ such documents make our dataset.\n",
      "\n",
      "> $\\alpha$ the parameter of a Dirichlet distribution generating one \"topic\" _population_ $\\theta$ for each document\n",
      "\n",
      "> $\\theta_i$ the topic population, a parameter of a multinomial distribution, from this population, _one_ topic $z$ is generated for _each_ word\n",
      "\n",
      "> $\\beta$ and $z$, $z$ is a row index of $\\beta$, and each row of $\\beta$ is again a \"lower-level\" multinomial distribution, from which we generate a word $w_n$\n",
      "\n",
      "Recap:\n",
      "> Generating $\\theta$ is done once for a document, totally $M$ times\n",
      "\n",
      "> Generating $z$ and taking a row of $\\beta$ and generating $w$ is done one per word, totally $M\\times V$ times\n"
     ]
    },
    {
     "cell_type": "markdown",
     "metadata": {},
     "source": [
      "### Let's have an example of drawing samples from the model"
     ]
    },
    {
     "cell_type": "code",
     "collapsed": false,
     "input": [
      "# prepare all variables\n",
      "import numpy as np\n",
      "..."
     ],
     "language": "python",
     "metadata": {},
     "outputs": []
    },
    {
     "cell_type": "code",
     "collapsed": false,
     "input": [
      "# 3 topics: distribution of 4 words\n",
      "beta = np.asarray([[0.1, 0, 0.8, 0.1], [0.9, 0.05, 0.05, 0], [0.3, 0.2, 0.5, 0]])\n",
      "# Dir parameters\n",
      "alpha_proportion = np.asarray([0.3,0.5,0.2])\n",
      "alpha_confid = 5.\n",
      "alpha = alpha_proportion * alpha_confid\n",
      "\n",
      "rng = np.random.Status(0)\n",
      "for m in range(M):\n",
      "    theta = draw_dirrnd(alpha)\n",
      "    # ..."
     ],
     "language": "python",
     "metadata": {},
     "outputs": []
    },
    {
     "cell_type": "markdown",
     "metadata": {},
     "source": [
      "## How to infer $\\theta$ from data"
     ]
    },
    {
     "cell_type": "code",
     "collapsed": false,
     "input": [
      "# code sample"
     ],
     "language": "python",
     "metadata": {},
     "outputs": []
    },
    {
     "cell_type": "markdown",
     "metadata": {},
     "source": [
      "## How to estimate $\\alpha$ and $\\beta$ from data"
     ]
    },
    {
     "cell_type": "code",
     "collapsed": false,
     "input": [
      "# code sample"
     ],
     "language": "python",
     "metadata": {},
     "outputs": []
    },
    {
     "cell_type": "markdown",
     "metadata": {},
     "source": [
      "## A real data example"
     ]
    }
   ],
   "metadata": {}
  }
 ]
}